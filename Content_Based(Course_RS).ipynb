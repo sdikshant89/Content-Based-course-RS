{
  "nbformat": 4,
  "nbformat_minor": 0,
  "metadata": {
    "colab": {
      "name": "Content_Based(Course RS)",
      "provenance": [],
      "collapsed_sections": []
    },
    "kernelspec": {
      "name": "python3",
      "display_name": "Python 3"
    }
  },
  "cells": [
    {
      "cell_type": "code",
      "metadata": {
        "id": "ks0sdKl6pD4H",
        "colab_type": "code",
        "colab": {}
      },
      "source": [
        "import numpy as np #giving alias name as np\n",
        "import pandas as pd\n",
        "from sklearn.feature_extraction.text import CountVectorizer\n",
        "from sklearn.metrics.pairwise import cosine_similarity"
      ],
      "execution_count": 1,
      "outputs": []
    },
    {
      "cell_type": "code",
      "metadata": {
        "id": "8HC__oeppLVq",
        "colab_type": "code",
        "colab": {}
      },
      "source": [
        "def title_index(index):\n",
        "    return df[df.index == index][\"HeadLine\"].values[0]\n",
        "    #takes title from index\n",
        "\n",
        "def index_title(HeadLine):\n",
        "    return df[df.HeadLine == HeadLine][\"index\"].values[0] \n",
        "    #takes index from title"
      ],
      "execution_count": 2,
      "outputs": []
    },
    {
      "cell_type": "code",
      "metadata": {
        "id": "tCsVShqgpTi_",
        "colab_type": "code",
        "colab": {}
      },
      "source": [
        "df=pd.read_csv(\"https://raw.githubusercontent.com/sdikshant89/Content-Based-course-RS-/master/Coursera%20Udemy.csv\")\n",
        "#reads the csv file which should be available in your workspace folder"
      ],
      "execution_count": 3,
      "outputs": []
    },
    {
      "cell_type": "code",
      "metadata": {
        "id": "-mVOYVBvp9hE",
        "colab_type": "code",
        "colab": {
          "base_uri": "https://localhost:8080/",
          "height": 514
        },
        "outputId": "f84755c3-e926-4376-806f-f6a4030f32c3"
      },
      "source": [
        "df.head()"
      ],
      "execution_count": 4,
      "outputs": [
        {
          "output_type": "execute_result",
          "data": {
            "text/html": [
              "<div>\n",
              "<style scoped>\n",
              "    .dataframe tbody tr th:only-of-type {\n",
              "        vertical-align: middle;\n",
              "    }\n",
              "\n",
              "    .dataframe tbody tr th {\n",
              "        vertical-align: top;\n",
              "    }\n",
              "\n",
              "    .dataframe thead th {\n",
              "        text-align: right;\n",
              "    }\n",
              "</style>\n",
              "<table border=\"1\" class=\"dataframe\">\n",
              "  <thead>\n",
              "    <tr style=\"text-align: right;\">\n",
              "      <th></th>\n",
              "      <th>Unnamed: 0</th>\n",
              "      <th>HeadLine</th>\n",
              "      <th>Rating</th>\n",
              "      <th>Duration</th>\n",
              "      <th>Author</th>\n",
              "      <th>Source</th>\n",
              "      <th>Thumbnail</th>\n",
              "      <th>Description</th>\n",
              "      <th>Price</th>\n",
              "      <th>Level</th>\n",
              "      <th>Provider</th>\n",
              "    </tr>\n",
              "  </thead>\n",
              "  <tbody>\n",
              "    <tr>\n",
              "      <th>0</th>\n",
              "      <td>0</td>\n",
              "      <td>Python for Everybody</td>\n",
              "      <td>4.8</td>\n",
              "      <td>Approx. 8 months to complete</td>\n",
              "      <td>GoogleTop Instructor</td>\n",
              "      <td>Coursera</td>\n",
              "      <td>https://d3njjcbhbojbot.cloudfront.net/api/util...</td>\n",
              "      <td>This new beginner-level, six-course certificat...</td>\n",
              "      <td>450</td>\n",
              "      <td>Beginner</td>\n",
              "      <td>University of Michigan</td>\n",
              "    </tr>\n",
              "    <tr>\n",
              "      <th>1</th>\n",
              "      <td>1</td>\n",
              "      <td>Python 3 Programming</td>\n",
              "      <td>4.7</td>\n",
              "      <td>Approx. 8 months to complete</td>\n",
              "      <td>Charles Russell SeveranceTop Instructor</td>\n",
              "      <td>Coursera</td>\n",
              "      <td>https://d3njjcbhbojbot.cloudfront.net/api/util...</td>\n",
              "      <td>This Specialization builds on the success of t...</td>\n",
              "      <td>475</td>\n",
              "      <td>Beginner</td>\n",
              "      <td>University of Michigan</td>\n",
              "    </tr>\n",
              "    <tr>\n",
              "      <th>2</th>\n",
              "      <td>2</td>\n",
              "      <td>IBM Data Science</td>\n",
              "      <td>4.6</td>\n",
              "      <td>Approx. 17 hours to complete</td>\n",
              "      <td>Jorge Mu?z Gama</td>\n",
              "      <td>Coursera</td>\n",
              "      <td>https://d3njjcbhbojbot.cloudfront.net/api/util...</td>\n",
              "      <td>Dec? Steve Jobs que ?todo el mundo deber? apre...</td>\n",
              "      <td>450</td>\n",
              "      <td>Beginner</td>\n",
              "      <td>IBM</td>\n",
              "    </tr>\n",
              "    <tr>\n",
              "      <th>3</th>\n",
              "      <td>3</td>\n",
              "      <td>Google IT Automation with Python</td>\n",
              "      <td>4.7</td>\n",
              "      <td>Approx. 10 months to complete</td>\n",
              "      <td>Alex Aklson</td>\n",
              "      <td>Coursera</td>\n",
              "      <td>https://d3njjcbhbojbot.cloudfront.net/api/util...</td>\n",
              "      <td>Data Science has been ranked as one of the hot...</td>\n",
              "      <td>500</td>\n",
              "      <td>Beginner</td>\n",
              "      <td>Google</td>\n",
              "    </tr>\n",
              "    <tr>\n",
              "      <th>4</th>\n",
              "      <td>4</td>\n",
              "      <td>Applied Data Science with Python</td>\n",
              "      <td>4.5</td>\n",
              "      <td>Approx. 5 months to complete</td>\n",
              "      <td>Paul Resnick</td>\n",
              "      <td>Coursera</td>\n",
              "      <td>https://d3njjcbhbojbot.cloudfront.net/api/util...</td>\n",
              "      <td>This specialization teaches the fundamentals o...</td>\n",
              "      <td>455</td>\n",
              "      <td>Intermediate</td>\n",
              "      <td>University of Michigan</td>\n",
              "    </tr>\n",
              "  </tbody>\n",
              "</table>\n",
              "</div>"
            ],
            "text/plain": [
              "   Unnamed: 0  ...                Provider\n",
              "0           0  ...  University of Michigan\n",
              "1           1  ...  University of Michigan\n",
              "2           2  ...                     IBM\n",
              "3           3  ...                  Google\n",
              "4           4  ...  University of Michigan\n",
              "\n",
              "[5 rows x 11 columns]"
            ]
          },
          "metadata": {
            "tags": []
          },
          "execution_count": 4
        }
      ]
    },
    {
      "cell_type": "code",
      "metadata": {
        "id": "J_l70vVVp-qT",
        "colab_type": "code",
        "colab": {
          "base_uri": "https://localhost:8080/",
          "height": 69
        },
        "outputId": "6f46a67c-e3f7-4067-dc6a-bf70f12f5fd0"
      },
      "source": [
        "df.columns"
      ],
      "execution_count": 5,
      "outputs": [
        {
          "output_type": "execute_result",
          "data": {
            "text/plain": [
              "Index(['Unnamed: 0', 'HeadLine', 'Rating', 'Duration', 'Author', 'Source',\n",
              "       'Thumbnail', 'Description', 'Price', 'Level', 'Provider'],\n",
              "      dtype='object')"
            ]
          },
          "metadata": {
            "tags": []
          },
          "execution_count": 5
        }
      ]
    },
    {
      "cell_type": "code",
      "metadata": {
        "id": "BZ9pdXN_qMVX",
        "colab_type": "code",
        "colab": {
          "base_uri": "https://localhost:8080/",
          "height": 225
        },
        "outputId": "9a44612f-41df-4244-ff78-64f691a5160a"
      },
      "source": [
        "df.isnull().sum()"
      ],
      "execution_count": 6,
      "outputs": [
        {
          "output_type": "execute_result",
          "data": {
            "text/plain": [
              "Unnamed: 0     0\n",
              "HeadLine       0\n",
              "Rating         0\n",
              "Duration       0\n",
              "Author         0\n",
              "Source         0\n",
              "Thumbnail      0\n",
              "Description    0\n",
              "Price          0\n",
              "Level          0\n",
              "Provider       0\n",
              "dtype: int64"
            ]
          },
          "metadata": {
            "tags": []
          },
          "execution_count": 6
        }
      ]
    },
    {
      "cell_type": "code",
      "metadata": {
        "id": "wR2h0c5IxuN_",
        "colab_type": "code",
        "colab": {}
      },
      "source": [
        "df.rename(columns = {'Unnamed: 0':'index'}, inplace = True)"
      ],
      "execution_count": 7,
      "outputs": []
    },
    {
      "cell_type": "code",
      "metadata": {
        "id": "uesElgBCsCvp",
        "colab_type": "code",
        "colab": {}
      },
      "source": [
        "X = ['HeadLine','Rating','Duration','Level', 'Provider']\n",
        "#the key points on which the movie is recommended\n",
        "\n",
        "for X in X:\n",
        "    df[X]=df[X].fillna(' ')\n",
        "    #if any data containg Null or na value it would be rplaced by blank space\n",
        "\n",
        "def all_X(row):\n",
        "    try:\n",
        "        return row['HeadLine']+\" \"+row[\"Duration\"]+\" \"+row[\"Provider\"]\n",
        "    except: print(\"error\", row)\n",
        "    #giving out the error fields.\n",
        "    \n",
        "df[\"all_X\"]= df.apply(all_X,axis=1)"
      ],
      "execution_count": 8,
      "outputs": []
    },
    {
      "cell_type": "code",
      "metadata": {
        "id": "Ux8xMRthsekI",
        "colab_type": "code",
        "colab": {
          "base_uri": "https://localhost:8080/",
          "height": 208
        },
        "outputId": "b52c769e-0590-4afb-f245-37f2477c551e"
      },
      "source": [
        "cv = CountVectorizer()\n",
        "\n",
        "count_matrix = cv.fit_transform(df[\"all_X\"])\n",
        "#The fit() function calculates the values of these parameters \n",
        "#The transform function applies the values of the parameters on the actual data and gives the normalized value \n",
        "#The fit_transform() function performs both in the same step \n",
        "#Note that the same value is got whether we perform in 2 steps or in a single step.\n",
        "\n",
        "cosine = cosine_similarity(count_matrix) \n",
        "preferred_course = \"Python for Everybody\"\n",
        "#course in accordance to which recommendation should be given\n",
        "\n",
        "course_index = index_title(preferred_course)\n",
        "similar_course = list(enumerate(cosine[course_index]))\n",
        "#finding the cosine similarity of the movies\n",
        "\n",
        "sorted_similar_course = sorted(similar_course,key=lambda x:x[1],reverse=True)\n",
        "#we will get cosine similarity in ascending order therefore we need to reverse it to get vlues desirably and we'd remove the first as if cosine distance is 1 it would be the same movie which the user like\n",
        "\n",
        "i=0\n",
        "for course in sorted_similar_course:\n",
        "    print (title_index(course[0]))#printing the movies likewise\n",
        "    i=i+1\n",
        "    if i>10:\n",
        "        break"
      ],
      "execution_count": 10,
      "outputs": [
        {
          "output_type": "stream",
          "text": [
            "Python for Everybody\n",
            "Python 3 Programming\n",
            "Programming for Everybody (Getting Started with Python)\n",
            "Applied Data Science with Python\n",
            "Python Basics\n",
            "Crash Course on Python\n",
            "Python for Data Science and AI\n",
            "Google IT Automation with Python\n",
            "Complete Python programming-Python Basics to Advanced Python\n",
            "Introducci? a la programaci? en Python I: Aprendiendo a programar con Python\n",
            "Python for Beginners: Learn Python Programming (Python 3)\n"
          ],
          "name": "stdout"
        }
      ]
    },
    {
      "cell_type": "code",
      "metadata": {
        "id": "VwPjHdOVjj8L",
        "colab_type": "code",
        "colab": {}
      },
      "source": [
        ""
      ],
      "execution_count": null,
      "outputs": []
    }
  ]
}